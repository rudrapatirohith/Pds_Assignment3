{
 "cells": [
  {
   "cell_type": "code",
   "execution_count": 130,
   "id": "e03b40ef",
   "metadata": {},
   "outputs": [],
   "source": [
    "# Import necessary libraries\n",
    "import pandas as pd\n",
    "import numpy as np\n",
    "import matplotlib.pyplot as plt\n"
   ]
  },
  {
   "cell_type": "code",
   "execution_count": 131,
   "id": "85ec8902",
   "metadata": {},
   "outputs": [],
   "source": [
    "# Load the data\n",
    "data = pd.read_csv('C:/Users/rudra/Downloads/diabetes_cleandata.csv')"
   ]
  },
  {
   "cell_type": "code",
   "execution_count": 132,
   "id": "35c62be6",
   "metadata": {},
   "outputs": [],
   "source": [
    "# Set seed for reproducibility\n",
    "np.random.seed(42)"
   ]
  },
  {
   "cell_type": "code",
   "execution_count": 133,
   "id": "6c1d6cc5",
   "metadata": {},
   "outputs": [],
   "source": [
    "# Question a)\n",
    "\n",
    "# set a seed (to ensure work reproducibility) and take a random sample of 25 observations and\n",
    "# find the mean Glucose and highest Glucose values of this sample and compare these statistics\n",
    "# with the population statistics of the same variable. You should use charts for this comparison\n"
   ]
  },
  {
   "cell_type": "code",
   "execution_count": 134,
   "id": "b6fb2788",
   "metadata": {},
   "outputs": [
    {
     "name": "stdout",
     "output_type": "stream",
     "text": [
      "Population of the Mean Glucose: 120.89453125\n",
      "Population of the Max Glucose: 199\n",
      "\n",
      "Sample Mean of Glucose: 116.64\n",
      "Sample Max of Glucose: 183\n"
     ]
    }
   ],
   "source": [
    "# a) Random sample of 25 observations\n",
    "sample = data.sample(n=25)\n",
    "# Calculate mean and highest glucose values for both population and sample\n",
    "population_mean_glucose = data['Glucose'].mean()\n",
    "population_highest_glucose = data['Glucose'].max()\n",
    "\n",
    "sample_mean_glucose = sample['Glucose'].mean()\n",
    "sample_highest_glucose = sample['Glucose'].max()\n",
    "\n",
    "# Printing the statistics\n",
    "print(\"Population of the Mean Glucose:\", population_mean_glucose)\n",
    "print(\"Population of the Max Glucose:\", population_highest_glucose)\n",
    "print(\"\\nSample Mean of Glucose:\", sample_mean_glucose)\n",
    "print(\"Sample Max of Glucose:\", sample_highest_glucose)"
   ]
  },
  {
   "cell_type": "code",
   "execution_count": 135,
   "id": "05b35667",
   "metadata": {},
   "outputs": [
    {
     "data": {
      "image/png": "[encoded data removed]",
      "text/plain": [
       "<Figure size 432x288 with 1 Axes>"
      ]
     },
     "metadata": {
      "needs_background": "light"
     },
     "output_type": "display_data"
    },
    {
     "data": {
      "text/plain": [
       "<Figure size 432x288 with 0 Axes>"
      ]
     },
     "metadata": {},
     "output_type": "display_data"
    }
   ],
   "source": [
    "# Create a bar chart for comparison\n",
    "variables = ['Mean Glucose', 'Highest Glucose']\n",
    "population_values = [population_mean_glucose, population_highest_glucose]\n",
    "sample_values = [sample_mean_glucose, sample_highest_glucose]\n",
    "\n",
    "plt.bar(variables, population_values, label='Population', alpha=0.7)\n",
    "plt.bar(variables, sample_values, label='Sample', alpha=0.7)\n",
    "\n",
    "plt.title('Comparison of Glucose Statistics: Population vs. Sample')\n",
    "plt.ylabel('Glucose Values')\n",
    "plt.legend()\n",
    "plt.show()\n",
    "#Save the chart\n",
    "plt.savefig('C:/Users/rudra/Downloads/MeanMaxComparison.png')"
   ]
  },
  {
   "cell_type": "raw",
   "id": "8996861e",
   "metadata": {},
   "source": [
    "# The mean glucose level in the sample is lower than the mean in the entire population, and the highest glucose level in the sample is slightly lower than the highest in the population."
   ]
  },
  {
   "cell_type": "code",
   "execution_count": 136,
   "id": "342e79eb",
   "metadata": {},
   "outputs": [],
   "source": [
    "# Question b)\n",
    "\n",
    "# Find the 98th percentile of BMI of your sample and the population and compare the results\n",
    "# using charts."
   ]
  },
  {
   "cell_type": "code",
   "execution_count": 137,
   "id": "b6ad2f2c",
   "metadata": {},
   "outputs": [
    {
     "name": "stdout",
     "output_type": "stream",
     "text": [
      "Population of the 98th Percentile BMI: 47.52599999999996\n",
      "Sample of the 98th Percentile BMI: 40.248\n"
     ]
    }
   ],
   "source": [
    "# b) 98th percentile of BMI\n",
    "population_98th_percentile_bmi = data['BMI'].quantile(0.98)\n",
    "sample_98th_percentile_bmi = sample['BMI'].quantile(0.98)\n",
    "\n",
    "# Print the percentiles\n",
    "print(\"Population of the 98th Percentile BMI:\", population_98th_percentile_bmi)\n",
    "print(\"Sample of the 98th Percentile BMI:\", sample_98th_percentile_bmi)"
   ]
  },
  {
   "cell_type": "code",
   "execution_count": 138,
   "id": "df0b65b3",
   "metadata": {},
   "outputs": [
    {
     "data": {
      "image/png": "[encoded data removed]",
      "text/plain": [
       "<Figure size 432x288 with 1 Axes>"
      ]
     },
     "metadata": {
      "needs_background": "light"
     },
     "output_type": "display_data"
    },
    {
     "data": {
      "text/plain": [
       "<Figure size 432x288 with 0 Axes>"
      ]
     },
     "metadata": {},
     "output_type": "display_data"
    }
   ],
   "source": [
    "# Create a bar chart for comparison\n",
    "percentiles = ['98th Percentile BMI']\n",
    "population_percentile_values = [population_98th_percentile_bmi]\n",
    "sample_percentile_values = [sample_98th_percentile_bmi]\n",
    "\n",
    "plt.bar(percentiles, population_percentile_values, label='Population', alpha=0.7)\n",
    "plt.bar(percentiles, sample_percentile_values, label='Sample', alpha=0.7)\n",
    "\n",
    "plt.title('Comparison of 98th Percentile BMI: Population vs. Sample')\n",
    "plt.ylabel('BMI Values')\n",
    "plt.legend()\n",
    "plt.show()\n",
    "plt.savefig('C:/Users/rudra/Downloads/BMI98thPercentileComparison.png')"
   ]
  },
  {
   "cell_type": "raw",
   "id": "eb584c95",
   "metadata": {},
   "source": [
    "The 98th percentile, individuals in the sample exhibit a slightly lower BMI (Body Mass Index) compared to individuals at the same percentile in the entire population. The specific values provided indicate that the 98th percentile BMI in the sample is 44.68, while the corresponding percentile in the entire population is higher at 47.53."
   ]
  },
  {
   "cell_type": "code",
   "execution_count": 139,
   "id": "e5087ead",
   "metadata": {},
   "outputs": [],
   "source": [
    "# Question c)\n",
    "\n",
    "# Using bootstrap (replace= True), create 500 samples (of 150 observation each) from the\n",
    "# population and find the average mean, standard deviation and percentile for BloodPressure and\n",
    "# compare this with these statistics from the population for the same variable. Again, you should\n",
    "# create charts for this comparison. Report on your findings"
   ]
  },
  {
   "cell_type": "code",
   "execution_count": 140,
   "id": "5caca05a",
   "metadata": {},
   "outputs": [
    {
     "data": {
      "image/png": "[encoded data removed]",
      "text/plain": [
       "<Figure size 1080x432 with 1 Axes>"
      ]
     },
     "metadata": {
      "needs_background": "light"
     },
     "output_type": "display_data"
    },
    {
     "name": "stdout",
     "output_type": "stream",
     "text": [
      "Population Mean BloodPressure: 69.10546875, Bootstrap Mean BloodPressure: 69.17696\n",
      "Population Std BloodPressure: 19.355807170644777, Bootstrap Std BloodPressure: 19.08274018350705\n",
      "Population 75th Percentile BloodPressure: 80.0, Bootstrap 75th Percentile BloodPressure: 79.548\n"
     ]
    }
   ],
   "source": [
    "# c) Bootstrap for BloodPressure\n",
    "n_bootstrap_samples = 500\n",
    "bootstrap_sample_size = 150\n",
    "\n",
    "bootstrap_statistics = []\n",
    "\n",
    "for _ in range(n_bootstrap_samples):\n",
    "    bootstrap_sample = data['BloodPressure'].sample(bootstrap_sample_size, replace=True)\n",
    "    bootstrap_statistics.append({\n",
    "        'Mean': bootstrap_sample.mean(),\n",
    "        'Std': bootstrap_sample.std(),\n",
    "        'Percentile': np.percentile(bootstrap_sample, 75)  # You can change the percentile as needed\n",
    "    })\n",
    "\n",
    "# Calculate population statistics for BloodPressure\n",
    "population_mean_bp = data['BloodPressure'].mean()\n",
    "population_std_bp = data['BloodPressure'].std()\n",
    "population_percentile_bp = np.percentile(data['BloodPressure'], 75)\n",
    "\n",
    "colors = ['blue', 'green', 'orange', 'purple', 'red', 'pink']\n",
    "\n",
    "# Plot comparison for BloodPressure statistics with a larger chart size\n",
    "plt.figure(figsize=(15, 6))\n",
    "plt.bar(['Population Mean', 'Bootstrap Mean', 'Population Std', 'Bootstrap Std', 'Population 75th Percentile', 'Bootstrap 75th Percentile'],\n",
    "        [population_mean_bp, np.mean([stat['Mean'] for stat in bootstrap_statistics]), population_std_bp, np.mean([stat['Std'] for stat in bootstrap_statistics]), population_percentile_bp, np.mean([stat['Percentile'] for stat in bootstrap_statistics])],color=colors)\n",
    "plt.xlabel('Statistics')\n",
    "plt.ylabel('BloodPressure Values')\n",
    "plt.title('Comparison of BloodPressure Statistics')\n",
    "plt.savefig(\"C:/Users/rudra/Downloads/Comparision_of_BloodPressure_Statistics.png\")\n",
    "plt.show()\n",
    "\n",
    "# Report findings based on the comparisons made\n",
    "print(f\"Population Mean BloodPressure: {population_mean_bp}, Bootstrap Mean BloodPressure: {np.mean([stat['Mean'] for stat in bootstrap_statistics])}\")\n",
    "print(f\"Population Std BloodPressure: {population_std_bp}, Bootstrap Std BloodPressure: {np.mean([stat['Std'] for stat in bootstrap_statistics])}\")\n",
    "print(f\"Population 75th Percentile BloodPressure: {population_percentile_bp}, Bootstrap 75th Percentile BloodPressure: {np.mean([stat['Percentile'] for stat in bootstrap_statistics])}\")\n",
    "\n"
   ]
  },
  {
   "cell_type": "code",
   "execution_count": null,
   "id": "c10f8590",
   "metadata": {},
   "outputs": [],
   "source": []
  }
 ],
 "metadata": {
  "kernelspec": {
   "display_name": "Python 3 (ipykernel)",
   "language": "python",
   "name": "python3"
  },
  "language_info": {
   "codemirror_mode": {
    "name": "ipython",
    "version": 3
   },
   "file_extension": ".py",
   "mimetype": "text/x-python",
   "name": "python",
   "nbconvert_exporter": "python",
   "pygments_lexer": "ipython3",
   "version": "3.9.12"
  }
 },
 "nbformat": 4,
 "nbformat_minor": 5
}
